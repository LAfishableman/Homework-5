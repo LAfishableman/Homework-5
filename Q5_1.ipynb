{
 "cells": [
  {
   "cell_type": "code",
   "execution_count": 12,
   "id": "e56e6ab3-0b29-441f-bb55-180934d7a7aa",
   "metadata": {},
   "outputs": [],
   "source": [
    "import pandas as pd\n",
    "import numpy as np\n",
    "from sklearn.metrics.pairwise import cosine_similarity"
   ]
  },
  {
   "cell_type": "markdown",
   "id": "94af91a4-7b89-496a-81d8-87df6c7eb967",
   "metadata": {},
   "source": [
    "Load data from URL"
   ]
  },
  {
   "cell_type": "code",
   "execution_count": 13,
   "id": "3c95aa0f-dd8d-4de4-8617-e7eceb15032e",
   "metadata": {},
   "outputs": [],
   "source": [
    "data_url = 'https://raw.githubusercontent.com/LAfishableman/Homework-5/refs/heads/main/u.data'\n",
    "ratings = pd.read_csv(data_url, sep='\\t', names=['user_id', 'item_id', 'rating', 'timestamp'])"
   ]
  },
  {
   "cell_type": "markdown",
   "id": "6e228ab1-7774-477f-8aaf-03fd7756edfa",
   "metadata": {},
   "source": [
    "Create the utility matrix"
   ]
  },
  {
   "cell_type": "code",
   "execution_count": 14,
   "id": "7acdf8cd-98ca-4f05-a0f0-5ba8af6bbefd",
   "metadata": {},
   "outputs": [],
   "source": [
    "utility_matrix = ratings.pivot(index='user_id', columns='item_id', values='rating')"
   ]
  },
  {
   "cell_type": "markdown",
   "id": "20499e42-a9c3-4619-abc6-ff37acddb205",
   "metadata": {},
   "source": [
    "Centralize ratings"
   ]
  },
  {
   "cell_type": "code",
   "execution_count": 15,
   "id": "707b5487-0915-4460-9751-04328eaf1299",
   "metadata": {},
   "outputs": [],
   "source": [
    "user_means = utility_matrix.mean(axis=1)\n",
    "centered_utility_matrix = utility_matrix.sub(user_means, axis=0)\n",
    "centered_utility_matrix_filled = centered_utility_matrix.fillna(0)"
   ]
  },
  {
   "cell_type": "markdown",
   "id": "c15da34a-f325-49c5-af34-0f00ee4624ab",
   "metadata": {},
   "source": [
    "Compute cosine similarity"
   ]
  },
  {
   "cell_type": "code",
   "execution_count": 16,
   "id": "b9c49bd4-0182-4c10-9fc2-4ba1aa78a542",
   "metadata": {},
   "outputs": [],
   "source": [
    "cosine_sim = cosine_similarity(centered_utility_matrix_filled)\n",
    "cosine_sim_df = pd.DataFrame(cosine_sim, index=utility_matrix.index, columns=utility_matrix.index)"
   ]
  },
  {
   "cell_type": "markdown",
   "id": "e40b1670-33d0-4912-914a-026ecc8af68d",
   "metadata": {},
   "source": [
    "Get top 10 similar users to user 1"
   ]
  },
  {
   "cell_type": "code",
   "execution_count": 17,
   "id": "2af3fa58-f399-4c1c-956f-cec75518bf0b",
   "metadata": {},
   "outputs": [],
   "source": [
    "user_1_sim = cosine_sim_df.loc[1].sort_values(ascending=False)[1:11]"
   ]
  },
  {
   "cell_type": "markdown",
   "id": "9b5f1e91-f616-4395-88c3-79c249f66845",
   "metadata": {},
   "source": [
    "Predict rating for movie 508"
   ]
  },
  {
   "cell_type": "code",
   "execution_count": 18,
   "id": "109e8734-113e-4239-b2c4-5036cd3e3d6f",
   "metadata": {},
   "outputs": [],
   "source": [
    "mu_1 = user_means.loc[1]\n",
    "similar_users = user_1_sim.index\n",
    "weighted_sum = 0\n",
    "sim_sum = 0\n",
    "\n",
    "for user in similar_users:\n",
    "    if not pd.isna(utility_matrix.loc[user, 508]):\n",
    "        sim_score = user_1_sim.loc[user]\n",
    "        rating = utility_matrix.loc[user, 508]\n",
    "        mu_u = user_means.loc[user]\n",
    "        weighted_sum += sim_score * (rating - mu_u)\n",
    "        sim_sum += sim_score\n",
    "\n",
    "predicted_rating = mu_1 + (weighted_sum / sim_sum) if sim_sum > 0 else mu_1"
   ]
  },
  {
   "cell_type": "markdown",
   "id": "176ae9d1-30c9-4be0-8725-0b5e9511eaa1",
   "metadata": {},
   "source": [
    "Print results"
   ]
  },
  {
   "cell_type": "code",
   "execution_count": 19,
   "id": "3121b1ac-38d6-489f-979a-d5ea7736b604",
   "metadata": {},
   "outputs": [
    {
     "name": "stdout",
     "output_type": "stream",
     "text": [
      "Top 10 users similar to user 1:\n",
      "user_id\n",
      "773    0.204792\n",
      "868    0.202321\n",
      "592    0.196592\n",
      "880    0.195801\n",
      "429    0.190661\n",
      "276    0.187476\n",
      "916    0.186358\n",
      "222    0.182415\n",
      "457    0.182253\n",
      "8      0.180891\n",
      "Name: 1, dtype: float64\n",
      "\n",
      "User 1 predicted rating for movie 508: 4.39\n"
     ]
    }
   ],
   "source": [
    "print(\"Top 10 users similar to user 1:\")\n",
    "print(user_1_sim)\n",
    "print(f\"\\nUser 1 predicted rating for movie 508: {predicted_rating:.2f}\")"
   ]
  }
 ],
 "metadata": {
  "kernelspec": {
   "display_name": "Python 3 (ipykernel)",
   "language": "python",
   "name": "python3"
  },
  "language_info": {
   "codemirror_mode": {
    "name": "ipython",
    "version": 3
   },
   "file_extension": ".py",
   "mimetype": "text/x-python",
   "name": "python",
   "nbconvert_exporter": "python",
   "pygments_lexer": "ipython3",
   "version": "3.11.7"
  }
 },
 "nbformat": 4,
 "nbformat_minor": 5
}
