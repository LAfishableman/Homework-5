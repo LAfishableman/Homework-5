{
 "cells": [
  {
   "cell_type": "code",
   "execution_count": 1,
   "id": "5a8ba806-d8d6-4242-9398-959dc24bee3d",
   "metadata": {},
   "outputs": [],
   "source": [
    "import pandas as pd\n",
    "import numpy as np\n",
    "from sklearn.metrics.pairwise import cosine_similarity"
   ]
  },
  {
   "cell_type": "markdown",
   "id": "bf89349f-0f7c-4c27-9636-e84ce6d81433",
   "metadata": {},
   "source": [
    "Load dataset from URL"
   ]
  },
  {
   "cell_type": "code",
   "execution_count": 2,
   "id": "39b17a2f-e6c0-432e-8319-e49a918bccee",
   "metadata": {},
   "outputs": [],
   "source": [
    "data_url = 'https://raw.githubusercontent.com/LAfishableman/Homework-5/refs/heads/main/u.data'\n",
    "ratings = pd.read_csv(data_url, sep='\\t', names=['user_id', 'item_id', 'rating', 'timestamp'])"
   ]
  },
  {
   "cell_type": "markdown",
   "id": "e93f7461-e037-4b06-90e6-f1489dcbe499",
   "metadata": {},
   "source": [
    "Create utility matrix"
   ]
  },
  {
   "cell_type": "code",
   "execution_count": 3,
   "id": "93805e96-eebc-4e9e-9077-bdb0bc0207b4",
   "metadata": {},
   "outputs": [],
   "source": [
    "utility_matrix = ratings.pivot(index='user_id', columns='item_id', values='rating')"
   ]
  },
  {
   "cell_type": "markdown",
   "id": "ad74d82a-59ac-4fb3-ada9-b7e1ee8c7e63",
   "metadata": {},
   "source": [
    "Centralize ratings"
   ]
  },
  {
   "cell_type": "code",
   "execution_count": 4,
   "id": "ee584005-6dc7-41ce-b911-9b86d6a4dbdc",
   "metadata": {},
   "outputs": [],
   "source": [
    "user_means = utility_matrix.mean(axis=1)\n",
    "centered_utility_matrix = utility_matrix.sub(user_means, axis=0)\n",
    "centered_utility_matrix_filled = centered_utility_matrix.fillna(0)"
   ]
  },
  {
   "cell_type": "markdown",
   "id": "4795e258-2118-4f80-b0e3-a2065e83ce92",
   "metadata": {},
   "source": [
    "Build profiles for users 200 and 15"
   ]
  },
  {
   "cell_type": "code",
   "execution_count": 5,
   "id": "2a1000eb-2c47-4385-8519-756f8c378beb",
   "metadata": {},
   "outputs": [],
   "source": [
    "user_200_profile = centered_utility_matrix_filled.loc[200]\n",
    "user_15_profile = centered_utility_matrix_filled.loc[15]"
   ]
  },
  {
   "cell_type": "markdown",
   "id": "03a05e1b-14cb-48b1-be5e-76a6860e5cf5",
   "metadata": {},
   "source": [
    "Build movie 95 profile by averaging ratings in movie space"
   ]
  },
  {
   "cell_type": "code",
   "execution_count": 8,
   "id": "b221af1b-2f6a-42e2-8098-dc65bb572b61",
   "metadata": {},
   "outputs": [],
   "source": [
    "movie_95_ratings = centered_utility_matrix[95].dropna()\n",
    "valid_users = movie_95_ratings.index\n",
    "movie_95_profile = centered_utility_matrix_filled.loc[valid_users].mean()"
   ]
  },
  {
   "cell_type": "markdown",
   "id": "9a9d0bb4-c6f2-4da9-92c9-d0caa8e9fe71",
   "metadata": {},
   "source": [
    "Compute cosine similarity"
   ]
  },
  {
   "cell_type": "code",
   "execution_count": 9,
   "id": "34978627-0aa2-4af8-8140-12f9e184b780",
   "metadata": {},
   "outputs": [],
   "source": [
    "cos_sim_200_95 = cosine_similarity([user_200_profile], [movie_95_profile])[0][0]\n",
    "cos_sim_15_95 = cosine_similarity([user_15_profile], [movie_95_profile])[0][0]"
   ]
  },
  {
   "cell_type": "markdown",
   "id": "f30be988-520e-42e5-b1e7-ff9bcb8ede5c",
   "metadata": {},
   "source": [
    "Compute Euclidean distance"
   ]
  },
  {
   "cell_type": "code",
   "execution_count": 10,
   "id": "7a27006b-755b-4734-a5e9-aed8349ef359",
   "metadata": {},
   "outputs": [],
   "source": [
    "dist_200_95 = np.linalg.norm(user_200_profile - movie_95_profile)\n",
    "dist_15_95 = np.linalg.norm(user_15_profile - movie_95_profile)"
   ]
  },
  {
   "cell_type": "markdown",
   "id": "6d1a142a-31f5-40e1-8629-204f96bb3ab1",
   "metadata": {},
   "source": [
    "Print results"
   ]
  },
  {
   "cell_type": "code",
   "execution_count": 11,
   "id": "ce249834-ef8e-42a4-ac98-f1c9c2caba3d",
   "metadata": {},
   "outputs": [
    {
     "name": "stdout",
     "output_type": "stream",
     "text": [
      "User 200 cosine similarity with movie 95: 0.3647\n",
      "User 15 cosine similarity with movie 95: 0.1215\n",
      "User 200 Euclidean distance to movie 95: 11.7612\n",
      "User 15 Euclidean distance to movie 95: 13.6803\n"
     ]
    }
   ],
   "source": [
    "print(f\"User 200 cosine similarity with movie 95: {cos_sim_200_95:.4f}\")\n",
    "print(f\"User 15 cosine similarity with movie 95: {cos_sim_15_95:.4f}\")\n",
    "print(f\"User 200 Euclidean distance to movie 95: {dist_200_95:.4f}\")\n",
    "print(f\"User 15 Euclidean distance to movie 95: {dist_15_95:.4f}\")"
   ]
  }
 ],
 "metadata": {
  "kernelspec": {
   "display_name": "Python 3 (ipykernel)",
   "language": "python",
   "name": "python3"
  },
  "language_info": {
   "codemirror_mode": {
    "name": "ipython",
    "version": 3
   },
   "file_extension": ".py",
   "mimetype": "text/x-python",
   "name": "python",
   "nbconvert_exporter": "python",
   "pygments_lexer": "ipython3",
   "version": "3.11.7"
  }
 },
 "nbformat": 4,
 "nbformat_minor": 5
}
